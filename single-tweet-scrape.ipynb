{
 "cells": [
  {
   "cell_type": "markdown",
   "metadata": {},
   "source": [
    "# Using Nitter to scrape information from singular tweet"
   ]
  },
  {
   "cell_type": "code",
   "execution_count": 17,
   "metadata": {},
   "outputs": [],
   "source": [
    "from selenium import webdriver\n",
    "\n",
    "link = \"https://nitter.net/HumanDilemma_/status/1676266066278850569\"\n",
    "driver = webdriver.Chrome()\n",
    "driver.get(link)"
   ]
  },
  {
   "cell_type": "code",
   "execution_count": 18,
   "metadata": {},
   "outputs": [
    {
     "name": "stdout",
     "output_type": "stream",
     "text": [
      "['@HumanDilemma_', 'Jul 4, 2023 · 4:25 PM UTC', 'French patriots try to defend their homes from the rioting mod and looters.\\n\\n#France #FranceRiots #FranceProtest #Paris #parisriots #franceViolence #FranceHasFallen #FranceOnFire', 'https://nitter.net/HumanDilemma_/status/1676266066278850569', True]\n"
     ]
    }
   ],
   "source": [
    "from selenium.webdriver.common.by import By # for identifier\n",
    "\n",
    "username = driver.find_element(By.XPATH, \"//a[@class='username']\").text\n",
    "tweet_date = driver.find_element(By.XPATH, \"//span[@class='tweet-date']/a[@title]\").get_attribute(\"title\")\n",
    "tweet_text = driver.find_element(By.XPATH, \"//div[@class='tweet-content media-body']\").text\n",
    "tweet_media = driver.find_element(By.XPATH, \"//div[@class='attachments card']\")\n",
    "\n",
    "# print(username)\n",
    "# print(tweet_date)\n",
    "# print(tweet_text)\n",
    "# print(bool(tweet_media))\n",
    "\n",
    "list = [username, tweet_date, tweet_text, link, bool(tweet_media)]\n",
    "print(list)"
   ]
  },
  {
   "cell_type": "code",
   "execution_count": 21,
   "metadata": {},
   "outputs": [],
   "source": [
    "driver.quit()"
   ]
  },
  {
   "cell_type": "code",
   "execution_count": 19,
   "metadata": {},
   "outputs": [
    {
     "name": "stdout",
     "output_type": "stream",
     "text": [
      "[['@HumanDilemma_', 'Jul 4, 2023 · 4:25 PM UTC', 'French patriots try to defend their homes from the rioting mod and looters.\\n\\n#France #FranceRiots #FranceProtest #Paris #parisriots #franceViolence #FranceHasFallen #FranceOnFire', 'https://nitter.net/HumanDilemma_/status/1676266066278850569', True]]\n"
     ]
    }
   ],
   "source": [
    "tweets = []\n",
    "tweets.append(list)\n",
    "print(tweets)"
   ]
  },
  {
   "cell_type": "code",
   "execution_count": 4,
   "metadata": {},
   "outputs": [],
   "source": [
    "from selenium import webdriver\n",
    "from selenium.webdriver.common.by import By\n",
    "\n",
    "tweets = []\n",
    "\n",
    "def scrape(link):\n",
    "    # replacing twitter link with nitter to make scraping easier\n",
    "    nitter_link = link.replace(\"twitter.com\", \"nitter.net\", 1)\n",
    "    \n",
    "    # selenium web driver\n",
    "    driver = webdriver.Chrome()\n",
    "    driver.get(nitter_link)\n",
    "    \n",
    "    # getting variables\n",
    "    username = driver.find_element(By.XPATH, \"//a[@class='username']\").text\n",
    "    tweet_date = driver.find_element(By.XPATH, \"//span[@class='tweet-date']/a[@title]\").get_attribute(\"title\")\n",
    "    tweet_text = driver.find_element(By.XPATH, \"//div[@class='tweet-content media-body']\").text\n",
    "    \n",
    "    try:\n",
    "        tweet_media = driver.find_element(By.XPATH, \"//div[@class='attachments card']\")\n",
    "    except:\n",
    "        media_exists = False\n",
    "    else:\n",
    "        media_exists = True\n",
    "        \n",
    "    # adding to list\n",
    "    row = [username, tweet_date, tweet_text, link, media_exists]\n",
    "    tweets.append(row)\n",
    "    \n",
    "    # suspending driver\n",
    "    driver.quit()\n",
    "    \n",
    "# scrape(\"https://twitter.com/HumanDilemma_/status/1676266066278850569\")\n"
   ]
  },
  {
   "cell_type": "code",
   "execution_count": 2,
   "metadata": {},
   "outputs": [
    {
     "data": {
      "text/html": [
       "<div>\n",
       "<style scoped>\n",
       "    .dataframe tbody tr th:only-of-type {\n",
       "        vertical-align: middle;\n",
       "    }\n",
       "\n",
       "    .dataframe tbody tr th {\n",
       "        vertical-align: top;\n",
       "    }\n",
       "\n",
       "    .dataframe thead th {\n",
       "        text-align: right;\n",
       "    }\n",
       "</style>\n",
       "<table border=\"1\" class=\"dataframe\">\n",
       "  <thead>\n",
       "    <tr style=\"text-align: right;\">\n",
       "      <th></th>\n",
       "      <th>username</th>\n",
       "      <th>tweet_date</th>\n",
       "      <th>tweet_text</th>\n",
       "      <th>tweet_link</th>\n",
       "      <th>media_exists</th>\n",
       "    </tr>\n",
       "  </thead>\n",
       "  <tbody>\n",
       "  </tbody>\n",
       "</table>\n",
       "</div>"
      ],
      "text/plain": [
       "Empty DataFrame\n",
       "Columns: [username, tweet_date, tweet_text, tweet_link, media_exists]\n",
       "Index: []"
      ]
     },
     "execution_count": 2,
     "metadata": {},
     "output_type": "execute_result"
    }
   ],
   "source": [
    "import pandas as pd\n",
    "\n",
    "columns = ['username', 'tweet_date', 'tweet_text', 'tweet_link', 'media_exists']\n",
    "\n",
    "df = pd.DataFrame(tweets, columns=columns)\n",
    "\n",
    "df.head()"
   ]
  },
  {
   "cell_type": "code",
   "execution_count": 18,
   "metadata": {},
   "outputs": [],
   "source": [
    "list = []\n",
    "\n",
    "for item in list:\n",
    "    print(item)\n",
    "    \n",
    "def add(list):\n",
    "    while True:\n",
    "        prompt = input(\"Enter a tweet, or 'exit' to exit:\")\n",
    "        if prompt == 'exit':\n",
    "            break\n",
    "        else:\n",
    "            list.append(prompt)\n",
    "\n",
    "add(list)"
   ]
  },
  {
   "cell_type": "code",
   "execution_count": 7,
   "metadata": {},
   "outputs": [],
   "source": [
    "for tweet in list:\n",
    "    scrape(tweet)\n",
    "\n"
   ]
  },
  {
   "cell_type": "code",
   "execution_count": 46,
   "metadata": {},
   "outputs": [
    {
     "name": "stdout",
     "output_type": "stream",
     "text": [
      "['https://twitter.com/zebulunalford_/status/1688942534834204673?s=20', 'https://twitter.com/zebulunalford_/status/1688942534834204673?s=20', 'https://twitter.com/zebulunalford_/status/1688942534834204673?s=20']\n"
     ]
    }
   ],
   "source": [
    "print(list)\n",
    "# csv = pd.DataFrame(list)\n",
    "# csv.to_csv('test.csv', header=False, index=False)\n",
    "\n",
    "def csv(list, file):\n",
    "    filename = file + '.csv'\n",
    "    file = pd.DataFrame(list)\n",
    "    file.to_csv(filename, index=False)\n",
    "\n",
    "csv(list, 'test')"
   ]
  },
  {
   "cell_type": "code",
   "execution_count": 58,
   "metadata": {},
   "outputs": [],
   "source": [
    "def fill(list, file):\n",
    "    filename = file + '.csv'\n",
    "    df = pd.read_csv(filename)\n",
    "    csv_list = df.values.tolist()\n",
    "    for item in csv_list:\n",
    "        list.append(item)\n",
    "    \n",
    "fill(list, 'test')\n"
   ]
  },
  {
   "cell_type": "code",
   "execution_count": 11,
   "metadata": {},
   "outputs": [
    {
     "data": {
      "text/html": [
       "<div>\n",
       "<style scoped>\n",
       "    .dataframe tbody tr th:only-of-type {\n",
       "        vertical-align: middle;\n",
       "    }\n",
       "\n",
       "    .dataframe tbody tr th {\n",
       "        vertical-align: top;\n",
       "    }\n",
       "\n",
       "    .dataframe thead th {\n",
       "        text-align: right;\n",
       "    }\n",
       "</style>\n",
       "<table border=\"1\" class=\"dataframe\">\n",
       "  <thead>\n",
       "    <tr style=\"text-align: right;\">\n",
       "      <th></th>\n",
       "      <th>username</th>\n",
       "      <th>tweet_date</th>\n",
       "      <th>tweet_text</th>\n",
       "      <th>tweet_link</th>\n",
       "      <th>media_exists</th>\n",
       "    </tr>\n",
       "  </thead>\n",
       "  <tbody>\n",
       "    <tr>\n",
       "      <th>0</th>\n",
       "      <td>@zebulunalford_</td>\n",
       "      <td>Aug 7, 2023 · 6:00 PM UTC</td>\n",
       "      <td>I wonder how Cavs fans feel about their offseason</td>\n",
       "      <td>https://twitter.com/zebulunalford_/status/1688...</td>\n",
       "      <td>False</td>\n",
       "    </tr>\n",
       "    <tr>\n",
       "      <th>1</th>\n",
       "      <td>@zebulunalford_</td>\n",
       "      <td>Aug 7, 2023 · 9:18 PM UTC</td>\n",
       "      <td>Can’t wait to see these two cook next season</td>\n",
       "      <td>https://twitter.com/zebulunalford_/status/1688...</td>\n",
       "      <td>True</td>\n",
       "    </tr>\n",
       "    <tr>\n",
       "      <th>2</th>\n",
       "      <td>@zebulunalford_</td>\n",
       "      <td>Aug 8, 2023 · 4:34 AM UTC</td>\n",
       "      <td>man i could easily sign up for twitter blue an...</td>\n",
       "      <td>https://twitter.com/zebulunalford_/status/1688...</td>\n",
       "      <td>False</td>\n",
       "    </tr>\n",
       "    <tr>\n",
       "      <th>3</th>\n",
       "      <td>@zebulunalford_</td>\n",
       "      <td>Aug 8, 2023 · 3:57 PM UTC</td>\n",
       "      <td>Trae, Siakam, and DJ just don’t mesh well imo\\...</td>\n",
       "      <td>https://twitter.com/zebulunalford_/status/1688...</td>\n",
       "      <td>False</td>\n",
       "    </tr>\n",
       "  </tbody>\n",
       "</table>\n",
       "</div>"
      ],
      "text/plain": [
       "          username                 tweet_date  \\\n",
       "0  @zebulunalford_  Aug 7, 2023 · 6:00 PM UTC   \n",
       "1  @zebulunalford_  Aug 7, 2023 · 9:18 PM UTC   \n",
       "2  @zebulunalford_  Aug 8, 2023 · 4:34 AM UTC   \n",
       "3  @zebulunalford_  Aug 8, 2023 · 3:57 PM UTC   \n",
       "\n",
       "                                          tweet_text  \\\n",
       "0  I wonder how Cavs fans feel about their offseason   \n",
       "1       Can’t wait to see these two cook next season   \n",
       "2  man i could easily sign up for twitter blue an...   \n",
       "3  Trae, Siakam, and DJ just don’t mesh well imo\\...   \n",
       "\n",
       "                                          tweet_link  media_exists  \n",
       "0  https://twitter.com/zebulunalford_/status/1688...         False  \n",
       "1  https://twitter.com/zebulunalford_/status/1688...          True  \n",
       "2  https://twitter.com/zebulunalford_/status/1688...         False  \n",
       "3  https://twitter.com/zebulunalford_/status/1688...         False  "
      ]
     },
     "execution_count": 11,
     "metadata": {},
     "output_type": "execute_result"
    }
   ],
   "source": [
    "import pandas as pd\n",
    "\n",
    "columns = ['username', 'tweet_date', 'tweet_text', 'tweet_link', 'media_exists']\n",
    "\n",
    "df = pd.DataFrame(tweets, columns=columns)\n",
    "\n",
    "df.head()\n",
    "# df.drop_duplicates() "
   ]
  }
 ],
 "metadata": {
  "kernelspec": {
   "display_name": "Python 3.10.5 ('.venv': venv)",
   "language": "python",
   "name": "python3"
  },
  "language_info": {
   "codemirror_mode": {
    "name": "ipython",
    "version": 3
   },
   "file_extension": ".py",
   "mimetype": "text/x-python",
   "name": "python",
   "nbconvert_exporter": "python",
   "pygments_lexer": "ipython3",
   "version": "3.10.5"
  },
  "orig_nbformat": 4,
  "vscode": {
   "interpreter": {
    "hash": "f17f87a0af02294e85a2c0012c64c70dfe75f2a86b47bd8d89f40ebf870b1d1c"
   }
  }
 },
 "nbformat": 4,
 "nbformat_minor": 2
}
