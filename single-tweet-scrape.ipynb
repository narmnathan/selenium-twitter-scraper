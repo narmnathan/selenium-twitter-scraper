{
 "cells": [
  {
   "cell_type": "markdown",
   "metadata": {},
   "source": [
    "# Using Nitter to scrape information from singular tweet"
   ]
  },
  {
   "cell_type": "code",
   "execution_count": 17,
   "metadata": {},
   "outputs": [],
   "source": [
    "from selenium import webdriver\n",
    "\n",
    "link = \"https://nitter.net/HumanDilemma_/status/1676266066278850569\"\n",
    "driver = webdriver.Chrome()\n",
    "driver.get(link)"
   ]
  },
  {
   "cell_type": "code",
   "execution_count": 18,
   "metadata": {},
   "outputs": [
    {
     "name": "stdout",
     "output_type": "stream",
     "text": [
      "['@HumanDilemma_', 'Jul 4, 2023 · 4:25 PM UTC', 'French patriots try to defend their homes from the rioting mod and looters.\\n\\n#France #FranceRiots #FranceProtest #Paris #parisriots #franceViolence #FranceHasFallen #FranceOnFire', 'https://nitter.net/HumanDilemma_/status/1676266066278850569', True]\n"
     ]
    }
   ],
   "source": [
    "from selenium.webdriver.common.by import By # for identifier\n",
    "\n",
    "username = driver.find_element(By.XPATH, \"//a[@class='username']\").text\n",
    "tweet_date = driver.find_element(By.XPATH, \"//span[@class='tweet-date']/a[@title]\").get_attribute(\"title\")\n",
    "tweet_text = driver.find_element(By.XPATH, \"//div[@class='tweet-content media-body']\").text\n",
    "tweet_media = driver.find_element(By.XPATH, \"//div[@class='attachments card']\")\n",
    "\n",
    "# print(username)\n",
    "# print(tweet_date)\n",
    "# print(tweet_text)\n",
    "# print(bool(tweet_media))\n",
    "\n",
    "list = [username, tweet_date, tweet_text, link, bool(tweet_media)]\n",
    "print(list)"
   ]
  },
  {
   "cell_type": "code",
   "execution_count": 21,
   "metadata": {},
   "outputs": [],
   "source": [
    "driver.quit()"
   ]
  },
  {
   "cell_type": "code",
   "execution_count": 19,
   "metadata": {},
   "outputs": [
    {
     "name": "stdout",
     "output_type": "stream",
     "text": [
      "[['@HumanDilemma_', 'Jul 4, 2023 · 4:25 PM UTC', 'French patriots try to defend their homes from the rioting mod and looters.\\n\\n#France #FranceRiots #FranceProtest #Paris #parisriots #franceViolence #FranceHasFallen #FranceOnFire', 'https://nitter.net/HumanDilemma_/status/1676266066278850569', True]]\n"
     ]
    }
   ],
   "source": [
    "tweets = []\n",
    "tweets.append(list)\n",
    "print(tweets)"
   ]
  },
  {
   "cell_type": "code",
   "execution_count": 20,
   "metadata": {},
   "outputs": [
    {
     "data": {
      "text/html": [
       "<div>\n",
       "<style scoped>\n",
       "    .dataframe tbody tr th:only-of-type {\n",
       "        vertical-align: middle;\n",
       "    }\n",
       "\n",
       "    .dataframe tbody tr th {\n",
       "        vertical-align: top;\n",
       "    }\n",
       "\n",
       "    .dataframe thead th {\n",
       "        text-align: right;\n",
       "    }\n",
       "</style>\n",
       "<table border=\"1\" class=\"dataframe\">\n",
       "  <thead>\n",
       "    <tr style=\"text-align: right;\">\n",
       "      <th></th>\n",
       "      <th>username</th>\n",
       "      <th>tweet_date</th>\n",
       "      <th>tweet_text</th>\n",
       "      <th>tweet_link</th>\n",
       "      <th>media_exists</th>\n",
       "    </tr>\n",
       "  </thead>\n",
       "  <tbody>\n",
       "    <tr>\n",
       "      <th>0</th>\n",
       "      <td>@HumanDilemma_</td>\n",
       "      <td>Jul 4, 2023 · 4:25 PM UTC</td>\n",
       "      <td>French patriots try to defend their homes from...</td>\n",
       "      <td>https://nitter.net/HumanDilemma_/status/167626...</td>\n",
       "      <td>True</td>\n",
       "    </tr>\n",
       "  </tbody>\n",
       "</table>\n",
       "</div>"
      ],
      "text/plain": [
       "         username                 tweet_date  \\\n",
       "0  @HumanDilemma_  Jul 4, 2023 · 4:25 PM UTC   \n",
       "\n",
       "                                          tweet_text  \\\n",
       "0  French patriots try to defend their homes from...   \n",
       "\n",
       "                                          tweet_link  media_exists  \n",
       "0  https://nitter.net/HumanDilemma_/status/167626...          True  "
      ]
     },
     "execution_count": 20,
     "metadata": {},
     "output_type": "execute_result"
    }
   ],
   "source": [
    "import pandas as pd\n",
    "\n",
    "columns = ['username', 'tweet_date', 'tweet_text', 'tweet_link', 'media_exists']\n",
    "\n",
    "df = pd.DataFrame(tweets, columns=columns)\n",
    "\n",
    "df.head()"
   ]
  },
  {
   "cell_type": "code",
   "execution_count": 22,
   "metadata": {},
   "outputs": [],
   "source": [
    "from selenium import webdriver\n",
    "from selenium.webdriver.common.by import By\n",
    "\n",
    "tweets = []\n",
    "\n",
    "def scrape(link):\n",
    "    # replacing twitter link with nitter to make scraping easier\n",
    "    nitter_link = link.replace(\"twitter.com\", \"nitter.net\", 1)\n",
    "    \n",
    "    # selenium web driver\n",
    "    driver = webdriver.Chrome()\n",
    "    driver.get(link)\n",
    "    \n",
    "    # getting variables\n",
    "    username = driver.find_element(By.XPATH, \"//a[@class='username']\").text\n",
    "    tweet_date = driver.find_element(By.XPATH, \"//span[@class='tweet-date']/a[@title]\").get_attribute(\"title\")\n",
    "    tweet_text = driver.find_element(By.XPATH, \"//div[@class='tweet-content media-body']\").text\n",
    "    tweet_media = driver.find_element(By.XPATH, \"//div[@class='attachments card']\")\n",
    "    \n",
    "    # adding to list\n",
    "    row = [username, tweet_date, tweet_text, link, bool(tweet_media)]\n",
    "    tweets.append(row)\n",
    "    \n",
    "    # suspending driver\n",
    "    driver.quit()\n",
    "    \n",
    "# scrape(\"https://nitter.net/HumanDilemma_/status/1676266066278850569\")\n"
   ]
  }
 ],
 "metadata": {
  "kernelspec": {
   "display_name": "Python 3.10.5 ('.venv': venv)",
   "language": "python",
   "name": "python3"
  },
  "language_info": {
   "codemirror_mode": {
    "name": "ipython",
    "version": 3
   },
   "file_extension": ".py",
   "mimetype": "text/x-python",
   "name": "python",
   "nbconvert_exporter": "python",
   "pygments_lexer": "ipython3",
   "version": "3.10.5"
  },
  "orig_nbformat": 4,
  "vscode": {
   "interpreter": {
    "hash": "f17f87a0af02294e85a2c0012c64c70dfe75f2a86b47bd8d89f40ebf870b1d1c"
   }
  }
 },
 "nbformat": 4,
 "nbformat_minor": 2
}
