{
 "cells": [
  {
   "cell_type": "code",
   "execution_count": 3,
   "metadata": {},
   "outputs": [],
   "source": [
    "from selenium import webdriver\n",
    "\n",
    "driver = webdriver.Chrome()\n",
    "driver.get(\"https://nitter.net/search\")"
   ]
  },
  {
   "cell_type": "code",
   "execution_count": 12,
   "metadata": {},
   "outputs": [],
   "source": [
    "from selenium.webdriver.common.by import By # for identifier\n",
    "from time import sleep\n",
    "\n",
    "string = \"#Nanterre until:2023-07-05 since:2023-06-28\"\n",
    "\n",
    "driver.find_element(By.XPATH, \"//input[@name='q']\").send_keys(string)\n",
    "sleep(1)\n",
    "driver.find_element(By.XPATH, \"//button[@type='submit']\").click()"
   ]
  },
  {
   "cell_type": "code",
   "execution_count": 25,
   "metadata": {},
   "outputs": [
    {
     "name": "stdout",
     "output_type": "stream",
     "text": [
      "@Livrenoirmedia\n",
      "Jul 4, 2023 · 4:19 PM UTC\n",
      "⚫️ Dépité, le rappeur et influenceur Morsay annonce son départ de la France à cause de la cagnotte destinée à la famille du policier de #Nanterre.\n"
     ]
    }
   ],
   "source": [
    "username = driver.find_element(By.XPATH, \"//a[@class='username']\").text\n",
    "tweet_date = driver.find_element(By.XPATH, \"//span[@class='tweet-date']/a[@title]\").get_attribute(\"title\")\n",
    "tweet_text = driver.find_element(By.XPATH, \"//div[@class='tweet-content media-body']\").text\n",
    "print(username)\n",
    "print(tweet_date)\n",
    "print(tweet_text)"
   ]
  },
  {
   "cell_type": "code",
   "execution_count": 32,
   "metadata": {},
   "outputs": [
    {
     "name": "stdout",
     "output_type": "stream",
     "text": [
      "@Livrenoirmedia\n",
      "@Livrenoirmedia\n",
      "@Livrenoirmedia\n",
      "@Livrenoirmedia\n",
      "@Livrenoirmedia\n",
      "@Livrenoirmedia\n",
      "@Livrenoirmedia\n",
      "@Livrenoirmedia\n",
      "@Livrenoirmedia\n",
      "@Livrenoirmedia\n",
      "@Livrenoirmedia\n"
     ]
    }
   ],
   "source": [
    "timeline_items = driver.find_elements(By.XPATH, \"//div[@class='timeline-item ']\")\n",
    "for item in timeline_items:\n",
    "    username = driver.find_element(By.XPATH, \"//a[@class='username']\").text\n",
    "    "
   ]
  },
  {
   "cell_type": "code",
   "execution_count": 2,
   "metadata": {},
   "outputs": [],
   "source": [
    "driver.quit()"
   ]
  }
 ],
 "metadata": {
  "kernelspec": {
   "display_name": "Python 3.10.5 ('.venv': venv)",
   "language": "python",
   "name": "python3"
  },
  "language_info": {
   "codemirror_mode": {
    "name": "ipython",
    "version": 3
   },
   "file_extension": ".py",
   "mimetype": "text/x-python",
   "name": "python",
   "nbconvert_exporter": "python",
   "pygments_lexer": "ipython3",
   "version": "3.10.5"
  },
  "orig_nbformat": 4,
  "vscode": {
   "interpreter": {
    "hash": "f17f87a0af02294e85a2c0012c64c70dfe75f2a86b47bd8d89f40ebf870b1d1c"
   }
  }
 },
 "nbformat": 4,
 "nbformat_minor": 2
}
