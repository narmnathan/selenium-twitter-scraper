{
 "cells": [
  {
   "cell_type": "code",
   "execution_count": 5,
   "metadata": {},
   "outputs": [],
   "source": [
    "from selenium import webdriver # for opening browser\n",
    "from vars import env_vars # using environmental variables\n",
    "from time import sleep\n",
    "\n",
    "driver = webdriver.Chrome()\n",
    "driver.get(\"https://twitter.com/\") # opens twitter"
   ]
  },
  {
   "cell_type": "code",
   "execution_count": 7,
   "metadata": {},
   "outputs": [],
   "source": [
    "from selenium.webdriver.common.by import By # for identifier\n",
    "\n",
    "\n",
    "driver.find_element(By.TAG_NAME, \"input\").send_keys(env_vars['USERNAME']) # enter username\n",
    "driver.find_element(By.XPATH, \"//span[contains(text(), 'Next')]\").click() # click Next button\n",
    "sleep(2)\n",
    "driver.find_element(By.XPATH, \"//input[@name='password']\").send_keys(env_vars['PASSWORD']) # enter password\n",
    "driver.find_element(By.XPATH, \"//span[contains(text(), 'Log in')]\").click() # click Log in button"
   ]
  },
  {
   "cell_type": "code",
   "execution_count": 15,
   "metadata": {},
   "outputs": [],
   "source": [
    "from methods import convert\n",
    "\n",
    "query1 = convert(\"#FranceRiots until:2023-07-05 since:2023-06-28\")\n",
    "driver.get(\"https://twitter.com/search?q=\" + query1)"
   ]
  },
  {
   "cell_type": "markdown",
   "metadata": {},
   "source": []
  }
 ],
 "metadata": {
  "kernelspec": {
   "display_name": "Python 3.10.5 ('.venv': venv)",
   "language": "python",
   "name": "python3"
  },
  "language_info": {
   "codemirror_mode": {
    "name": "ipython",
    "version": 3
   },
   "file_extension": ".py",
   "mimetype": "text/x-python",
   "name": "python",
   "nbconvert_exporter": "python",
   "pygments_lexer": "ipython3",
   "version": "3.10.5"
  },
  "orig_nbformat": 4,
  "vscode": {
   "interpreter": {
    "hash": "f17f87a0af02294e85a2c0012c64c70dfe75f2a86b47bd8d89f40ebf870b1d1c"
   }
  }
 },
 "nbformat": 4,
 "nbformat_minor": 2
}
