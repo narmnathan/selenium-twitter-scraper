{
 "cells": [
  {
   "cell_type": "code",
   "execution_count": 55,
   "metadata": {},
   "outputs": [],
   "source": [
    "from selenium import webdriver # for opening browser\n",
    "from vars import env_vars # using environmental variables\n",
    "\n",
    "driver = webdriver.Chrome()\n",
    "driver.get(\"https://twitter.com/\") # opens twitter"
   ]
  },
  {
   "cell_type": "code",
   "execution_count": 57,
   "metadata": {},
   "outputs": [],
   "source": [
    "from selenium.webdriver.common.by import By # for identifier\n",
    "\n",
    "\n",
    "driver.find_element(By.TAG_NAME, \"input\").send_keys(env_vars['USERNAME']) # enter username\n",
    "driver.find_element(By.XPATH, \"//span[contains(text(), 'Next')]\").click() # click Next button\n",
    "driver.find_element(By.XPATH, \"//input[@name='password']\").send_keys(env_vars['PASSWORD']) # enter password\n",
    "driver.find_element(By.XPATH, \"//span[contains(text(), 'Log in')]\").click() # click Log in button"
   ]
  },
  {
   "cell_type": "markdown",
   "metadata": {},
   "source": []
  },
  {
   "cell_type": "markdown",
   "metadata": {},
   "source": []
  }
 ],
 "metadata": {
  "kernelspec": {
   "display_name": "Python 3.10.5 ('.venv': venv)",
   "language": "python",
   "name": "python3"
  },
  "language_info": {
   "codemirror_mode": {
    "name": "ipython",
    "version": 3
   },
   "file_extension": ".py",
   "mimetype": "text/x-python",
   "name": "python",
   "nbconvert_exporter": "python",
   "pygments_lexer": "ipython3",
   "version": "3.10.5"
  },
  "orig_nbformat": 4,
  "vscode": {
   "interpreter": {
    "hash": "f17f87a0af02294e85a2c0012c64c70dfe75f2a86b47bd8d89f40ebf870b1d1c"
   }
  }
 },
 "nbformat": 4,
 "nbformat_minor": 2
}
