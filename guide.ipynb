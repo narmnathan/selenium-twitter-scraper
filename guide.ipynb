{
 "cells": [
  {
   "cell_type": "markdown",
   "metadata": {},
   "source": [
    "# Using Nitter to scrape information from singular tweet"
   ]
  },
  {
   "cell_type": "code",
   "execution_count": null,
   "metadata": {},
   "outputs": [],
   "source": [
    "from selenium import webdriver\n",
    "from selenium.webdriver.common.by import By\n",
    "import pandas as pd\n",
    "\n",
    "tweets = []\n",
    "columns = ['username', 'tweet_date', 'tweet_text', 'tweet_link', 'media_exists']\n",
    "\n",
    "def scrape(link):\n",
    "    # replacing twitter link with nitter to make scraping easier\n",
    "    nitter_link = link.replace(\"twitter.com\", \"nitter.net\", 1)\n",
    "    \n",
    "    # selenium web driver\n",
    "    driver = webdriver.Chrome()\n",
    "    driver.get(nitter_link)\n",
    "    \n",
    "    # getting variables\n",
    "    username = driver.find_element(By.XPATH, \"//a[@class='username']\").text\n",
    "    tweet_date = driver.find_element(By.XPATH, \"//span[@class='tweet-date']/a[@title]\").get_attribute(\"title\")\n",
    "    tweet_text = driver.find_element(By.XPATH, \"//div[@class='tweet-content media-body']\").text\n",
    "    \n",
    "    try:\n",
    "        tweet_media = driver.find_element(By.XPATH, \"//div[@class='attachments card']\")\n",
    "    except:\n",
    "        media_exists = False\n",
    "    else:\n",
    "        media_exists = True\n",
    "        \n",
    "    # adding to list\n",
    "    row = [username, tweet_date, tweet_text, link, media_exists]\n",
    "    tweets.append(row)\n",
    "    \n",
    "    # suspending driver\n",
    "    driver.quit()"
   ]
  },
  {
   "cell_type": "code",
   "execution_count": null,
   "metadata": {},
   "outputs": [],
   "source": [
    "def add(list):\n",
    "    while True:\n",
    "        prompt = input(\"Enter a tweet, or 'exit' to exit:\")\n",
    "        if prompt == 'exit':\n",
    "            break\n",
    "        else:\n",
    "            list.append(prompt)"
   ]
  },
  {
   "cell_type": "code",
   "execution_count": null,
   "metadata": {},
   "outputs": [],
   "source": [
    "df = pd.DataFrame(tweets, columns=columns)\n",
    "\n",
    "df.to_csv('test.csv', index=False, header=True)\n",
    "df.head()"
   ]
  }
 ],
 "metadata": {
  "kernelspec": {
   "display_name": "Python 3.10.5 ('.venv': venv)",
   "language": "python",
   "name": "python3"
  },
  "language_info": {
   "codemirror_mode": {
    "name": "ipython",
    "version": 3
   },
   "file_extension": ".py",
   "mimetype": "text/x-python",
   "name": "python",
   "nbconvert_exporter": "python",
   "pygments_lexer": "ipython3",
   "version": "3.10.5"
  },
  "orig_nbformat": 4,
  "vscode": {
   "interpreter": {
    "hash": "f17f87a0af02294e85a2c0012c64c70dfe75f2a86b47bd8d89f40ebf870b1d1c"
   }
  }
 },
 "nbformat": 4,
 "nbformat_minor": 2
}
